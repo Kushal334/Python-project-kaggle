{
 "cells": [
  {
   "cell_type": "markdown",
   "metadata": {},
   "source": [
    "# Uva API to CSV\n",
    "\n",
    "UVa has an api end point at [Uhunt](http://uhunt.felix-halim.net/api). This python script will extract information from api end point and convert to CSV files for Data Analysis"
   ]
  },
  {
   "cell_type": "code",
   "execution_count": 49,
   "metadata": {
    "collapsed": false
   },
   "outputs": [],
   "source": [
    "import pandas as pd\n",
    "import requests as rq\n",
    "import numpy as np\n",
    "from IPython.display import HTML, display\n",
    "import os.path as path\n",
    "import time\n",
    "import datetime\n",
    "import shlex\n",
    "\n",
    "def header(s):\n",
    "    display( HTML('<h1 align=\"center\">{}</h1>'.format(s)) )\n",
    "    \n",
    "def subheader(s):\n",
    "    display( HTML('<h3 align=\"center\">{}</h3>'.format(s)) )\n",
    "\n",
    "def boolToStr (x):\n",
    "    return 'true' if x else 'false'\n",
    "\n",
    "def timeToStamp(x):\n",
    "    t = type(x)\n",
    "    if t == pd.tslib.Timestamp:\n",
    "        x = x.to_pydatetime()\n",
    "\n",
    "    if type(x) != datetime.datetime:\n",
    "        raise ValueError(\"Please send datetime.datetime or pandas.Timestamp. You have sent {}\".format(type(x)))\n",
    "        \n",
    "    return  int( x.timestamp() * 1000 )"
   ]
  },
  {
   "cell_type": "code",
   "execution_count": 44,
   "metadata": {
    "collapsed": false
   },
   "outputs": [],
   "source": [
    "def toUUID(x):\n",
    "    return \"00000000-0000-0000-0000-{:012}\".format(x)"
   ]
  },
  {
   "cell_type": "markdown",
   "metadata": {},
   "source": [
    "# UVa Problem List\n",
    "\n",
    "First, lets grab all the problems on UVa"
   ]
  },
  {
   "cell_type": "code",
   "execution_count": 3,
   "metadata": {
    "collapsed": false
   },
   "outputs": [
    {
     "data": {
      "text/plain": [
       "rec.array([ (   0,   36,   100, 'The 3n + 1 problem', 79081,   0, 0, 6949, 0, 0, 112475, 0, 67231, 321, 58214, 5209, 272129, 4988, 193455, 3000, 1, 0),\n",
       " (   1,   37,   101, 'The Blocks Problem', 13246,   0, 0,  933, 0, 0,  13179, 0, 20724,  18,  9218,  200,  22623, 6102,  19991, 3000, 1, 0),\n",
       " (   2,   38,   102, 'Ecological Bin Packing', 23568,   0, 0, 1972, 0, 0,  12532, 0,  4813,  28,  3089,   72,  34729,  669,  36303, 3000, 1, 0),\n",
       " ...,\n",
       " (4816, 5078, 13156, 'In the Kingdom of Hirak',     3, 120, 0,    0, 0, 0,      0, 0,     0,   0,     0,    0,      4,    0,      3, 3000, 1, 0),\n",
       " (4817, 5079, 13157, 'Prime Distance',    10,   0, 0,    0, 0, 0,      1, 0,     1,   0,     0,    0,     33,    0,     11, 1000, 1, 0),\n",
       " (4818, 5080, 13158, '8-ball Rack',     2,  10, 0,    0, 0, 0,      0, 0,     3,   0,     1,    0,     17,    0,      5, 1000, 1, 0)], \n",
       "          dtype=[('index', '<i8'), ('id', '<i8'), ('number', '<i8'), ('title', 'O'), ('dacu', '<i8'), ('best_runtime', '<i8'), ('best_memory', '<i8'), ('no_verdict', '<i8'), ('submission_error', '<i8'), ('cannot_judge', '<i8'), ('in_queue', '<i8'), ('CE', '<i8'), ('RF', '<i8'), ('RTE', '<i8'), ('OLE', '<i8'), ('TLE', '<i8'), ('MLE', '<i8'), ('WA', '<i8'), ('PE', '<i8'), ('AC', '<i8'), ('runtime', '<i8'), ('status', '<i8')])"
      ]
     },
     "metadata": {},
     "output_type": "display_data"
    },
    {
     "name": "stdout",
     "output_type": "stream",
     "text": [
      "Total number of problems = 4819\n"
     ]
    }
   ],
   "source": [
    "if path.exists('problem.csv'):\n",
    "    problemDF = pd.read_csv('problem.csv')\n",
    "else: \n",
    "    # Grab it from API\n",
    "    problemList = rq.get( 'http://uhunt.felix-halim.net/api/p' ).json()\n",
    "    columns = [ \n",
    "        'id', \n",
    "        'number', \n",
    "        'title',\n",
    "        'dacu',\n",
    "        'best_runtime',\n",
    "        'dummy',\n",
    "        'best_memory',\n",
    "        'no_verdict',\n",
    "        'submission_error', \n",
    "        'cannot_judge',\n",
    "        'in_queue',\n",
    "        'CE', # Compilation Error\n",
    "        'RF', # Restricted Function\n",
    "        'RTE',\n",
    "        'OLE',\n",
    "        'TLE',\n",
    "        'MLE',\n",
    "        'WA',\n",
    "        'PE',\n",
    "        'AC',\n",
    "        'runtime',\n",
    "        'status'\n",
    "    ]\n",
    "    problemDF = pd.DataFrame.from_records(problemList, columns=columns)\n",
    "    del problemDF['dummy']\n",
    "    problemDF.to_csv('problem.csv', index=False)\n",
    "    \n",
    "problemDF = problemDF.to_records()\n",
    "display(problemDF)\n",
    "\n",
    "totalProblem = len(problemDF)\n",
    "print ( \"Total number of problems = {}\".format(totalProblem))"
   ]
  },
  {
   "cell_type": "markdown",
   "metadata": {},
   "source": [
    "# Grab All Submissions from 2016\n",
    "\n",
    "In order to grab all submissions in 2016, we will be using the following api: `/api/p/subs/{pids-csv}/{start-sbt}/{end-sbt}.` For this, we will be requiring problem-ids as csv and start-end time as unix time stamp"
   ]
  },
  {
   "cell_type": "code",
   "execution_count": 6,
   "metadata": {
    "collapsed": false
   },
   "outputs": [
    {
     "name": "stdout",
     "output_type": "stream",
     "text": [
      "    0/4818  Done Processing Problem Id: 36. Already exists.\n",
      " 1000/4818  Done Processing Problem Id: 1041. Already exists.\n",
      " 2000/4818  Done Processing Problem Id: 2041. Already exists.\n",
      " 3000/4818  Done Processing Problem Id: 3251. Already exists.\n",
      " 4000/4818  Done Processing Problem Id: 4255. Already exists.\n"
     ]
    }
   ],
   "source": [
    "# # Grab start and end time in unix time stamp\n",
    "# # date -d \"Jan 1 2016\" +%s \n",
    "start2016 = 1451584800\n",
    "end2016 = 1483120800\n",
    "\n",
    "problemIdList = problemDF['id']\n",
    "\n",
    "subProblemIdList = problemIdList\n",
    "totalSubProblem = len(subProblemIdList) - 1\n",
    "\n",
    "problemSubFolder = 'problem_sub_2016'\n",
    "\n",
    "# for ind, problemId in enumerate ( subProblemIdList ) :\n",
    "#     fileName = path.join( problemSubFolder, \"{}.csv\".format(problemId) )\n",
    "#     if path.exists(fileName) :\n",
    "#         if ind % 1000 == 0:\n",
    "#             print ( \"{:5}/{:<5} Done Processing Problem Id: {}. Already exists.\".format(ind, totalSubProblem, problemId) )\n",
    "#     else :\n",
    "#         subAPI = \"http://uhunt.felix-halim.net/api/p/subs/{}/{}/{}\".format(problemId, start2016, end2016)\n",
    "#         sub = rq.get(subAPI).json()\n",
    "#         subDF = pd.DataFrame.from_records(sub)\n",
    "#         subDF.to_csv(fileName, index=False )\n",
    "#         if ind % 1000 == 0:\n",
    "#             print ( \"{:5}/{:<5} Done Processing Problem Id: {}\".format(ind, totalSubProblem, problemId) )"
   ]
  },
  {
   "cell_type": "markdown",
   "metadata": {},
   "source": [
    "### Finally Finshed!\n",
    "\n",
    "Now, lets merge all these files into one file.\n",
    "\n",
    "**Important** : Merging all problems into one files creates a csv file of size 120MB with over 5 million rows! So lets just merge a small amount of files."
   ]
  },
  {
   "cell_type": "code",
   "execution_count": 54,
   "metadata": {
    "collapsed": false
   },
   "outputs": [
    {
     "data": {
      "text/plain": [
       "['vjudge8',\n",
       " 'vjudge9',\n",
       " 'vjudge6',\n",
       " 'vjudge10',\n",
       " 'vjudge3',\n",
       " 'vjudge2',\n",
       " 'vjudge4',\n",
       " 'vjudge1',\n",
       " 'vjudge7',\n",
       " 'vjudge5',\n",
       " 'xtuvjudge3',\n",
       " 'bnuvjudge4',\n",
       " 'bnuvjudge8',\n",
       " 'bnuvjudge',\n",
       " 'bnuvjudge2',\n",
       " 'bnuvjudge6',\n",
       " 'vjudge12',\n",
       " 'vjudge911',\n",
       " 'bnuvjudge3',\n",
       " 'bnuvjudge5',\n",
       " 'xtuvjudge5',\n",
       " 'xtuvjudge1',\n",
       " 'xtuvjudge6',\n",
       " 'xtuvjudge2',\n",
       " 'bnuvjudge7']"
      ]
     },
     "metadata": {},
     "output_type": "display_data"
    },
    {
     "name": "stdout",
     "output_type": "stream",
     "text": [
      "Removing vjudge\n",
      "Vjudge Removed\n"
     ]
    },
    {
     "data": {
      "text/plain": [
       "array([70, 30, 90, 40, 50, 80, 45, 10,  0])"
      ]
     },
     "metadata": {},
     "output_type": "display_data"
    },
    {
     "data": {
      "text/plain": [
       "1501804"
      ]
     },
     "metadata": {},
     "output_type": "display_data"
    }
   ],
   "source": [
    "mergedFile = 'merged2016.csv'\n",
    "\n",
    "if path.exists(mergedFile) is False:\n",
    "    \n",
    "    print ( \"Merging CSV\" )\n",
    "    mergeSub = open( mergedFile, 'a' )\n",
    "\n",
    "    for ind, problemId in enumerate ( subProblemIdList ):\n",
    "        fileName = path.join( problemSubFolder, \"{}.csv\".format(problemId) )\n",
    "        f = open(fileName)\n",
    "        if ind > 0 : # Throw away the header file\n",
    "            f.readline()\n",
    "        for line in f:\n",
    "            mergeSub.write(line)\n",
    "        f.close()\n",
    "\n",
    "    mergeSub.close()\n",
    "\n",
    "submission = pd.read_csv(mergedFile)\n",
    "\n",
    "vjudgeUser = [ x for x in submission['uname'].unique() if \"vjudge\" in x  ]\n",
    "display(vjudgeUser)\n",
    "\n",
    "print ( \"Removing vjudge\" )\n",
    "\n",
    "submission = submission[~submission['uname'].isin(vjudgeUser)]\n",
    "\n",
    "print ( \"Vjudge Removed\")\n",
    "\n",
    "display(submission['ver'].unique())\n",
    "\n",
    "submission = submission.to_records()\n",
    "\n",
    "display(len(submission))"
   ]
  },
  {
   "cell_type": "markdown",
   "metadata": {},
   "source": [
    "# Convert it to Coding Submission History"
   ]
  },
  {
   "cell_type": "code",
   "execution_count": 55,
   "metadata": {
    "collapsed": false
   },
   "outputs": [
    {
     "name": "stdout",
     "output_type": "stream",
     "text": [
      "Total length of coding history rows 1501804\n"
     ]
    },
    {
     "data": {
      "text/plain": [
       "rec.array([ (      0, 'Shourov_SUST@muktosoft.com', '2016-01-01T00:01:33.000000000', False, '00000000-0000-0000-0000-000000003309', 'C',    0, 'Wrong answer', 16654503),\n",
       " (      1, 'Arghya@muktosoft.com', '2016-01-01T00:01:43.000000000', False, '00000000-0000-0000-0000-000000004399', 'C++11', 1000, 'Time limit', 16654504),\n",
       " (      2, 'gary1021g@muktosoft.com', '2016-01-01T00:01:52.000000000',  True, '00000000-0000-0000-0000-000000001048', 'C++',   33, 'Accepted', 16654505),\n",
       " ...,\n",
       " (1501801, 'castanhell@muktosoft.com', '2016-12-30T23:57:47.000000000',  True, '00000000-0000-0000-0000-000000002595', 'C',    0, 'Accepted', 18564067),\n",
       " (1501802, 'madhusudan039@muktosoft.com', '2016-12-30T23:59:34.000000000',  True, '00000000-0000-0000-0000-000000000386', 'C++11',    0, 'Accepted', 18564068),\n",
       " (1501803, 'N.Qaisar@muktosoft.com', '2016-12-30T23:59:57.000000000', False, '00000000-0000-0000-0000-000000003402', 'C++',    0, 'Wrong answer', 18564069)], \n",
       "          dtype=[('index', '<i8'), ('user_email', 'O'), ('time', '<M8[ns]'), ('accepted', '?'), ('exercise_id', 'O'), ('language', 'O'), ('runtime', '<i8'), ('verdict', 'O'), ('sid', '<i8')])"
      ]
     },
     "execution_count": 55,
     "metadata": {},
     "output_type": "execute_result"
    }
   ],
   "source": [
    "codingHistory = pd.DataFrame()\n",
    "\n",
    "verdicts = {\n",
    "    0  : \"Unknown\",\n",
    "    10 : \"Submission error\",\n",
    "    15 : \" Can't be judged\",\n",
    "    20 : \"In queue\",\n",
    "    30 : \"Compile error\",\n",
    "    35 : \"Restricted function\",\n",
    "    40 : \"Runtime error\",\n",
    "    45 : \"Output limit\",\n",
    "    50 : \"Time limit\",\n",
    "    60 : \"Memory limit\",\n",
    "    70 : \"Wrong answer\",\n",
    "    80 : \"PresentationE\",\n",
    "    90 : \"Accepted\"\n",
    "}\n",
    "\n",
    "languages = {\n",
    "    1 : \"C\",\n",
    "    2 : \"Java\",\n",
    "    3 : \"C++\",\n",
    "    4 : \"Pascal\",\n",
    "    5 : \"C++11\",\n",
    "    6 : \"Python\"\n",
    "}\n",
    "\n",
    "codingHistory['user_email'] = [\"{}@muktosoft.com\".format(x) for x in submission['uname']]\n",
    "codingHistory['time'] = [datetime.datetime.fromtimestamp(x) for x in submission['sbt']]\n",
    "codingHistory['accepted'] = [ x == 90 for x in submission['ver']]\n",
    "codingHistory['exercise_id'] = [toUUID(x) for x in submission['pid']]\n",
    "codingHistory['language'] = [languages[x] for x in submission['lan']]\n",
    "codingHistory['runtime'] = submission['run']\n",
    "codingHistory['verdict'] = [verdicts[x] for x in submission['ver']]\n",
    "codingHistory['sid'] = submission['sid']\n",
    "\n",
    "codingHistory = codingHistory.sort_values(by=\"time\").reset_index(drop=True)\n",
    "codingHistory = codingHistory.to_records()\n",
    "\n",
    "print ( \"Total length of coding history rows {}\".format(len(codingHistory)))\n",
    "codingHistory"
   ]
  },
  {
   "cell_type": "code",
   "execution_count": 45,
   "metadata": {
    "collapsed": false
   },
   "outputs": [],
   "source": [
    "def genUsgeLog( startU, endU):\n",
    "    \"\"\"Generate usage_log from codingHistory\n",
    "    \n",
    "    You can send parameters to slice users\n",
    "    \n",
    "    @startU: start of slice\n",
    "    @endU: end of slice\n",
    "    \"\"\"\n",
    "    usageLog = pd.DataFrame()\n",
    "\n",
    "    # Usage log will have user emails for each submission\n",
    "    usageLog['user_email'] = codingHistory['user_email']\n",
    "    usageLog['event_type'] = 'view'\n",
    "    usageLog['current_item_id'] = codingHistory['exercise_id']\n",
    "    usageLog['current_item_type'] = 'lesson'\n",
    "    usageLog['current_enter_time'] = codingHistory['time']\n",
    "    usageLog['is_completed'] = False\n",
    "    usageLog['is_first_view'] = False\n",
    "    usageLog['session_id'] = ''\n",
    "    usageLog['session_start_time'] = np.datetime64()\n",
    "    usageLog['previous_item_id'] = toUUID(0)\n",
    "    usageLog['previous_item_type'] = \"unknown\"\n",
    "    usageLog['previous_enter_time'] = datetime.datetime.fromtimestamp(0)\n",
    "    usageLog['sid'] = codingHistory['sid']\n",
    "    \n",
    "    usageLog = usageLog.to_records()\n",
    "    \n",
    "    users = pd.unique ( codingHistory['user_email'] )[startU:endU]\n",
    "    total = len(users)\n",
    "    \n",
    "    newRows = [usageLog]\n",
    "    timeDeltaMinus = pd.Timedelta(seconds=-1)\n",
    "    timeDeltaPlus = pd.Timedelta(seconds=1)\n",
    "    \n",
    "    for unum, user in enumerate( users ):\n",
    "\n",
    "        userSub = codingHistory[ codingHistory['user_email'] == user ]\n",
    "        \n",
    "        totalSub = len(userSub)\n",
    "        if unum % 1000 == 0:\n",
    "            print ( \"Processing {:20} She has {} submissions. {:5}/{:<5}\".format(user, totalSub, unum+1, total) )\n",
    "\n",
    "        solved = set() # Contains solved problem by user\n",
    "        seen = set()\n",
    "\n",
    "        prevDate = datetime.date(2015,12,31)\n",
    "        sessionId = toUUID(0)\n",
    "        sessionStart = datetime.date(2015,12,31)\n",
    "        prevItemId = toUUID(0)\n",
    "        prevItemType = \"unknown\"\n",
    "        prevEnterTime = datetime.datetime.fromtimestamp(0)\n",
    "        prevIndex = -1\n",
    "        \n",
    "        loopInd = 0\n",
    "        \n",
    "        for sub in userSub:\n",
    "            index = sub['index']\n",
    "            loopInd = loopInd + 1\n",
    "            #print(\"Processing Submissions {:5}/{:<5}\".format(loopInd,totalSub) )\n",
    "\n",
    "            eid = sub['exercise_id']\n",
    "            today = pd.Timestamp( sub['time'] ).to_pydatetime().date()\n",
    "            delta = today - prevDate\n",
    "\n",
    "            if delta.days > 0: # A new day has started\n",
    "                # Create a session end event for previous session\n",
    "                if prevIndex > -1:\n",
    "                    newRow = usageLog[prevIndex:prevIndex+1].copy()\n",
    "                    newRow['event_type'] = 'end'\n",
    "                    newRows.append(newRow)\n",
    "                \n",
    "                prevDate = today\n",
    "                sessionId = toUUID(sub['sid'])\n",
    "                sessionStart = sub['time'] + timeDeltaMinus\n",
    "                prevItemId = toUUID(0)\n",
    "                prevItemType = \"unknown\"\n",
    "                prevEnterTime = datetime.datetime.fromtimestamp(0)\n",
    "                \n",
    "                 # Create a session start event for this session\n",
    "                newRow = usageLog[index:index+1].copy()\n",
    "                newRow['event_type'] = 'start'\n",
    "                newRow['session_id'] = sessionId\n",
    "                newRow['session_start_time'] = sessionStart\n",
    "                newRow['current_enter_time'] = newRow['session_start_time']\n",
    "                newRows.append(newRow)\n",
    "                \n",
    "        \n",
    "            usageLog[index].session_id = sessionId\n",
    "            usageLog[index].session_start_time = sessionStart\n",
    "    \n",
    "            usageLog[index].previous_item_id = prevItemId\n",
    "            usageLog[index].previous_item_type = prevItemType\n",
    "            usageLog[index].previous_enter_time = prevEnterTime\n",
    "\n",
    "            prevItemId = eid\n",
    "            prevItemType = 'lesson'\n",
    "            prevEnterTime = sub['time']\n",
    "\n",
    "            if eid in seen:\n",
    "                usageLog[index].is_first_view = False\n",
    "            else:\n",
    "                seen.add(eid)\n",
    "                usageLog[index].is_first_view = True\n",
    "\n",
    "            if sub['verdict'] == 'Accepted' or eid in solved:\n",
    "                solved.add(eid)\n",
    "                usageLog[index].is_completed = True\n",
    "            else:\n",
    "                usageLog[index].is_completed = False\n",
    "                \n",
    "            prevIndex = index\n",
    "    \n",
    "    usageLog = np.concatenate(newRows)\n",
    "    usageLog = pd.DataFrame(usageLog)\n",
    "    usageLog.loc[usageLog['event_type'] == 'end', 'current_enter_time'] += timeDeltaPlus\n",
    "    \n",
    "    usageLog = usageLog.sort_values(by='current_enter_time').reset_index(drop=True)\n",
    "    usageLog = usageLog[['user_email','session_id','session_start_time','event_type','current_item_id',\n",
    "                        'current_item_type','current_enter_time','is_completed','is_first_view',\n",
    "                        'previous_item_id','previous_item_type','previous_enter_time']]\n",
    "    return usageLog\n"
   ]
  },
  {
   "cell_type": "code",
   "execution_count": 18,
   "metadata": {
    "collapsed": false
   },
   "outputs": [
    {
     "data": {
      "text/plain": [
       "2247"
      ]
     },
     "metadata": {},
     "output_type": "display_data"
    },
    {
     "name": "stdout",
     "output_type": "stream",
     "text": [
      "Processing acolla@muktosoft.com She has 1 submissions.     1/2247 \n",
      "Processing protector@muktosoft.com She has 2 submissions.  1001/2247 \n",
      "Processing sarwarhosen007@muktosoft.com She has 1 submissions.  2001/2247 \n"
     ]
    }
   ],
   "source": [
    "usageLogCSV = 'usage_log.csv'\n",
    "if path.exists(usageLogCSV):\n",
    "    usageLog = pd.read_csv(usageLogCSV, parse_dates=['session_start_time',\n",
    "                                                     'current_enter_time',\n",
    "                                                     'previous_enter_time'] )\n",
    "else:\n",
    "    totalUsers = len ( np.unique( codingHistory['user_email'] ) )\n",
    "    display(totalUsers)\n",
    "\n",
    "    usageLog = genUsgeLog(0,totalUsers)\n",
    "    usageLog.to_csv('usage_log.csv', index=False)\n"
   ]
  },
  {
   "cell_type": "markdown",
   "metadata": {},
   "source": [
    "# Time to insert into Database\n",
    "\n",
    "Every thing is set. We have our coding submission history and usage log. Now, we just need to insert them in our database."
   ]
  },
  {
   "cell_type": "code",
   "execution_count": 11,
   "metadata": {
    "collapsed": false
   },
   "outputs": [],
   "source": [
    "from cassandra.cluster import Cluster\n",
    "\n",
    "cluster = Cluster()\n",
    "session = cluster.connect('celica_al_engine_db') # Connect to database and keyspace\n",
    "\n",
    "for table in ['usage_log', 'user', 'lesson', 'coding_submission_history', 'lesson_exercise']:\n",
    "    session.execute(\"TRUNCATE {}\".format(table))"
   ]
  },
  {
   "cell_type": "markdown",
   "metadata": {},
   "source": [
    "# Insert Users"
   ]
  },
  {
   "cell_type": "code",
   "execution_count": 81,
   "metadata": {
    "collapsed": false
   },
   "outputs": [],
   "source": [
    "def createUserTable():\n",
    "    session.execute(\"\"\"CREATE TABLE celica_al_engine_db.user ( email text PRIMARY KEY, username text );\"\"\")\n",
    "    \n",
    "def insertUsers( users ):\n",
    "    total = len(users)\n",
    "    for ind, user in enumerate( users ):\n",
    "        if ind % 1000 == 0:\n",
    "            print ( \"Processing {} out of {}\".format(ind,total) )\n",
    "            \n",
    "        command = \"\"\"\n",
    "        INSERT INTO celica_al_engine_db.user(\n",
    "            email,\n",
    "            username            \n",
    "        ) VALUES (\n",
    "            {!r},\n",
    "            {!r}\n",
    "        );\n",
    "        \"\"\".format( user, user.split(\"@\")[0] )\n",
    "\n",
    "        session.execute(command)"
   ]
  },
  {
   "cell_type": "code",
   "execution_count": 82,
   "metadata": {
    "collapsed": false
   },
   "outputs": [
    {
     "name": "stdout",
     "output_type": "stream",
     "text": [
      "Total number of users: 2247\n",
      "Processing 0 out of 2247\n",
      "Processing 1000 out of 2247\n",
      "Processing 2000 out of 2247\n",
      "CPU times: user 1.32 s, sys: 140 ms, total: 1.46 s\n",
      "Wall time: 2.02 s\n"
     ]
    }
   ],
   "source": [
    "users = usageLog['user_email'].unique()\n",
    "print ( \"Total number of users: {}\".format(len(users)) )\n",
    "\n",
    "# createUserTable()\n",
    "insertUsers(users)"
   ]
  },
  {
   "cell_type": "markdown",
   "metadata": {},
   "source": [
    "# Insert Lessons"
   ]
  },
  {
   "cell_type": "code",
   "execution_count": 29,
   "metadata": {
    "collapsed": true
   },
   "outputs": [],
   "source": [
    "def createLessonTable():\n",
    "    session.execute(\n",
    "        \"\"\"\n",
    "        CREATE TABLE celica_al_engine_db.lesson (\n",
    "            id uuid,\n",
    "            created_at timestamp,\n",
    "            body text,\n",
    "            dependent_lessons list<uuid>,\n",
    "            knowledge_components list<text>,\n",
    "            name text,\n",
    "            PRIMARY KEY (id, created_at)\n",
    "        );\n",
    "        \"\"\"\n",
    "    )\n",
    "\n",
    "def insertLessons(lessons):\n",
    "    total = len(lessons)\n",
    "    \n",
    "    for ind, lesson in enumerate(lessons):\n",
    "        if ind % 1000 == 0:\n",
    "            print ( \"Processing {} out of {}\".format(ind,total) )\n",
    "            \n",
    "        id = lesson[0]\n",
    "        title = lesson[1].replace('\\'', '').replace('\"','')        \n",
    "\n",
    "        command = \"\"\"\n",
    "        INSERT INTO celica_al_engine_db.lesson(\n",
    "            id,\n",
    "            created_at,\n",
    "            body,\n",
    "            dependent_lessons,\n",
    "            knowledge_components,\n",
    "            name\n",
    "        ) VALUES (\n",
    "            {!s},\n",
    "            {!s},\n",
    "            'Dummy Body',\n",
    "            [{!s}],\n",
    "            ['dummy'],\n",
    "            {!r}\n",
    "        );\n",
    "        \"\"\".format(toUUID(id), int( datetime.datetime.now().timestamp() * 1000 ), toUUID(0),title)\n",
    "\n",
    "        session.execute(command)\n",
    "        \n",
    "def insertLessonExercise(lessons):\n",
    "    total = len(lessons)\n",
    "    \n",
    "    for ind, lesson in enumerate(lessons):\n",
    "        if ind % 1000 == 0:\n",
    "            print ( \"Processing {} out of {}\".format(ind,total) )\n",
    "            \n",
    "        id = lesson[0]\n",
    "        title = lesson[1].replace('\\'', '').replace('\"','')        \n",
    "\n",
    "        command = \"\"\"\n",
    "        INSERT INTO celica_al_engine_db.lesson_exercise(\n",
    "            lesson_id,\n",
    "            exercise_ids\n",
    "        ) VALUES (\n",
    "            {!s},\n",
    "            [{!s}]\n",
    "        );\n",
    "        \"\"\".format(toUUID(id), toUUID(id))\n",
    "        \n",
    "        session.execute(command)"
   ]
  },
  {
   "cell_type": "code",
   "execution_count": 30,
   "metadata": {
    "collapsed": false
   },
   "outputs": [
    {
     "name": "stdout",
     "output_type": "stream",
     "text": [
      "Total number of lessons: 4819\n",
      "Processing 0 out of 4819\n",
      "Processing 1000 out of 4819\n",
      "Processing 2000 out of 4819\n",
      "Processing 3000 out of 4819\n",
      "Processing 4000 out of 4819\n"
     ]
    }
   ],
   "source": [
    "# createLessonTable()\n",
    "\n",
    "problemDF = pd.DataFrame(problemDF)\n",
    "\n",
    "lessons = problemDF[['id', 'title']].values\n",
    "\n",
    "print ( \"Total number of lessons: {}\".format(len(lessons)))\n",
    "\n",
    "insertLessons(lessons)\n",
    "insertLessonExercise(lessons)"
   ]
  },
  {
   "cell_type": "markdown",
   "metadata": {
    "collapsed": true
   },
   "source": [
    "# Insert CodingHistory"
   ]
  },
  {
   "cell_type": "code",
   "execution_count": 22,
   "metadata": {
    "collapsed": true
   },
   "outputs": [],
   "source": [
    "def createCodingHistory():\n",
    "    session.execute(\n",
    "        \"\"\"\n",
    "        CREATE TABLE celica_al_engine_db.coding_submission_history (\n",
    "            user_email text,\n",
    "            time timestamp,\n",
    "            accepted boolean,\n",
    "            duplicate boolean,\n",
    "            exercise_id uuid,\n",
    "            knowledge_components list<text>,\n",
    "            language text,\n",
    "            lesson_ids list<uuid>,\n",
    "            memory_used int,\n",
    "            point int,\n",
    "            point_delta int,\n",
    "            runtime int,\n",
    "            verdict text,\n",
    "            volume_ids list<uuid>,\n",
    "            PRIMARY KEY (user_email, time)\n",
    "        );\n",
    "        \"\"\"\n",
    "    )\n",
    "\n",
    "def insertCodingHistory( history ):\n",
    "    total = len(history)\n",
    "    for ind, h in enumerate( history ):\n",
    "        \n",
    "        if ind % 1000 == 0:\n",
    "            print ( \"Processing {} out of {}\".format(ind,total) )\n",
    "        \n",
    "        command = \"\"\"\n",
    "        INSERT INTO celica_al_engine_db.coding_submission_history(\n",
    "            user_email,\n",
    "            time,\n",
    "            accepted,\n",
    "            duplicate,\n",
    "            exercise_id,\n",
    "            knowledge_components,\n",
    "            language,\n",
    "            lesson_ids,\n",
    "            memory_used,\n",
    "            point,\n",
    "            point_delta,\n",
    "            runtime,\n",
    "            verdict,\n",
    "            volume_ids\n",
    "        ) VALUES (\n",
    "            {!r},\n",
    "            {!s},\n",
    "            {!s},\n",
    "            {!s},\n",
    "            {!s},\n",
    "            ['dummy'],\n",
    "            {!r},\n",
    "            [{!s}],\n",
    "            0,\n",
    "            {!s},\n",
    "            0,\n",
    "            {!s},\n",
    "            {!r},\n",
    "            [{!s}]\n",
    "        );\n",
    "        \"\"\".format(\n",
    "            h.user_email,\n",
    "            h.time.tolist() // 1000000,\n",
    "            'true' if h.accepted else 'false',\n",
    "            'false',\n",
    "            h.exercise_id,\n",
    "            h.language,\n",
    "            h.exercise_id,\n",
    "            10 if h.accepted else 0,\n",
    "            h.runtime,\n",
    "            h.verdict,\n",
    "            toUUID(0)\n",
    "        )\n",
    "        session.execute(command)"
   ]
  },
  {
   "cell_type": "code",
   "execution_count": 23,
   "metadata": {
    "collapsed": false
   },
   "outputs": [
    {
     "name": "stdout",
     "output_type": "stream",
     "text": [
      "Processing 0 out of 8260\n",
      "Processing 1000 out of 8260\n",
      "Processing 2000 out of 8260\n",
      "Processing 3000 out of 8260\n",
      "Processing 4000 out of 8260\n",
      "Processing 5000 out of 8260\n",
      "Processing 6000 out of 8260\n",
      "Processing 7000 out of 8260\n",
      "Processing 8000 out of 8260\n",
      "CPU times: user 7.29 s, sys: 608 ms, total: 7.9 s\n",
      "Wall time: 12.8 s\n"
     ]
    }
   ],
   "source": [
    "# createCodingHistory()\n",
    "\n",
    "insertCodingHistory(codingHistory)"
   ]
  },
  {
   "cell_type": "markdown",
   "metadata": {},
   "source": [
    "# Insert Usage Log"
   ]
  },
  {
   "cell_type": "code",
   "execution_count": 12,
   "metadata": {
    "collapsed": false
   },
   "outputs": [],
   "source": [
    "def createUsageLog():\n",
    "    session.execute(\n",
    "        \"\"\"\n",
    "        CREATE TABLE celica_al_engine_db.usage_log (\n",
    "            user_email text,\n",
    "            session_id uuid,\n",
    "            session_start_time timestamp,\n",
    "            event_type text,\n",
    "            current_item_id uuid,\n",
    "            current_item_type text,\n",
    "            current_enter_time timestamp,\n",
    "            is_completed boolean,\n",
    "            is_first_view boolean,\n",
    "            previous_item_id uuid,\n",
    "            previous_item_type text,\n",
    "            previous_enter_time timestamp,\n",
    "            volume_id uuid,\n",
    "            created_at timestamp,\n",
    "            PRIMARY KEY (user_email, session_id, current_enter_time)\n",
    "        );\n",
    "        \"\"\"\n",
    "    )\n",
    "\n",
    "def insertUsageLog( usageLog ):\n",
    "    total = len(usageLog)\n",
    "    for ind, use in usageLog.iterrows():\n",
    "        \n",
    "        if ind % 1000 == 0:\n",
    "            print ( \"Processing {} out of {}\".format(ind,total) )\n",
    "        \n",
    "        command = \"\"\"\n",
    "        INSERT INTO celica_al_engine_db.usage_log (\n",
    "            user_email,\n",
    "            session_id, session_start_time,\n",
    "            event_type,\n",
    "            current_item_id, current_item_type, current_enter_time,\n",
    "            is_completed, is_first_view,\n",
    "            previous_item_id, previous_item_type, previous_enter_time,\n",
    "            volume_id, created_at\n",
    "        ) values (\n",
    "            {!r},\n",
    "            {!s}, {!s},\n",
    "            {!r},\n",
    "            {!s}, {!r}, {!s},\n",
    "            {!s}, {!s},\n",
    "            {!s}, {!r}, {!s},\n",
    "            {!s}, {!s}\n",
    "        );\n",
    "        \"\"\".format(\n",
    "            use.user_email,\n",
    "            use.session_id, timeToStamp(use.session_start_time),\n",
    "            use.event_type,\n",
    "            use.current_item_id, use.current_item_type, timeToStamp(use.current_enter_time),\n",
    "            boolToStr(use.is_completed), boolToStr(use.is_first_view),\n",
    "            use.previous_item_id, use.previous_item_type, timeToStamp(use.previous_enter_time),\n",
    "            toUUID(0), timeToStamp(use.current_enter_time)\n",
    "        )\n",
    "        \n",
    "        session.execute(command)\n"
   ]
  },
  {
   "cell_type": "code",
   "execution_count": 19,
   "metadata": {
    "collapsed": false
   },
   "outputs": [
    {
     "name": "stdout",
     "output_type": "stream",
     "text": [
      "Processing 0 out of 13095\n",
      "Processing 1000 out of 13095\n",
      "Processing 2000 out of 13095\n",
      "Processing 3000 out of 13095\n",
      "Processing 4000 out of 13095\n",
      "Processing 5000 out of 13095\n",
      "Processing 6000 out of 13095\n",
      "Processing 7000 out of 13095\n",
      "Processing 8000 out of 13095\n",
      "Processing 9000 out of 13095\n",
      "Processing 10000 out of 13095\n",
      "Processing 11000 out of 13095\n",
      "Processing 12000 out of 13095\n",
      "Processing 13000 out of 13095\n",
      "CPU times: user 19.3 s, sys: 1.24 s, total: 20.5 s\n",
      "Wall time: 26.2 s\n",
      "Total usagelog 13095\n"
     ]
    }
   ],
   "source": [
    "# createUsageLog()\n",
    "insertUsageLog(usageLog)\n",
    "\n",
    "print ( \"Total usagelog {}\".format(len(usageLog)))"
   ]
  },
  {
   "cell_type": "markdown",
   "metadata": {},
   "source": []
  }
 ],
 "metadata": {
  "kernelspec": {
   "display_name": "Python 3",
   "language": "python",
   "name": "python3"
  },
  "language_info": {
   "codemirror_mode": {
    "name": "ipython",
    "version": 3
   },
   "file_extension": ".py",
   "mimetype": "text/x-python",
   "name": "python",
   "nbconvert_exporter": "python",
   "pygments_lexer": "ipython3",
   "version": "3.5.2"
  }
 },
 "nbformat": 4,
 "nbformat_minor": 2
}
