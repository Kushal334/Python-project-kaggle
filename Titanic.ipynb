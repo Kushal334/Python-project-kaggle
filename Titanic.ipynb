{
 "cells": [
  {
   "cell_type": "code",
   "execution_count": 1,
   "metadata": {
    "collapsed": false
   },
   "outputs": [],
   "source": [
    "import numpy as np # linear algebra\n",
    "import pandas as pd # data processing, CSV file I/O (e.g. pd.read_csv)\n",
    "import matplotlib.pyplot as plt\n",
    "%matplotlib inline\n",
    "\n",
    "from IPython.display import display"
   ]
  },
  {
   "cell_type": "code",
   "execution_count": 142,
   "metadata": {
    "collapsed": false
   },
   "outputs": [
    {
     "data": {
      "text/html": [
       "<div>\n",
       "<table border=\"1\" class=\"dataframe\">\n",
       "  <thead>\n",
       "    <tr style=\"text-align: right;\">\n",
       "      <th></th>\n",
       "      <th>PassengerId</th>\n",
       "      <th>Survived</th>\n",
       "      <th>Pclass</th>\n",
       "      <th>Name</th>\n",
       "      <th>Sex</th>\n",
       "      <th>Age</th>\n",
       "      <th>SibSp</th>\n",
       "      <th>Parch</th>\n",
       "      <th>Ticket</th>\n",
       "      <th>Fare</th>\n",
       "      <th>Cabin</th>\n",
       "      <th>Embarked</th>\n",
       "    </tr>\n",
       "  </thead>\n",
       "  <tbody>\n",
       "    <tr>\n",
       "      <th>0</th>\n",
       "      <td>1</td>\n",
       "      <td>0</td>\n",
       "      <td>3</td>\n",
       "      <td>Braund, Mr. Owen Harris</td>\n",
       "      <td>male</td>\n",
       "      <td>22.0</td>\n",
       "      <td>1</td>\n",
       "      <td>0</td>\n",
       "      <td>A/5 21171</td>\n",
       "      <td>7.2500</td>\n",
       "      <td>NaN</td>\n",
       "      <td>S</td>\n",
       "    </tr>\n",
       "    <tr>\n",
       "      <th>1</th>\n",
       "      <td>2</td>\n",
       "      <td>1</td>\n",
       "      <td>1</td>\n",
       "      <td>Cumings, Mrs. John Bradley (Florence Briggs Th...</td>\n",
       "      <td>female</td>\n",
       "      <td>38.0</td>\n",
       "      <td>1</td>\n",
       "      <td>0</td>\n",
       "      <td>PC 17599</td>\n",
       "      <td>71.2833</td>\n",
       "      <td>C85</td>\n",
       "      <td>C</td>\n",
       "    </tr>\n",
       "    <tr>\n",
       "      <th>2</th>\n",
       "      <td>3</td>\n",
       "      <td>1</td>\n",
       "      <td>3</td>\n",
       "      <td>Heikkinen, Miss. Laina</td>\n",
       "      <td>female</td>\n",
       "      <td>26.0</td>\n",
       "      <td>0</td>\n",
       "      <td>0</td>\n",
       "      <td>STON/O2. 3101282</td>\n",
       "      <td>7.9250</td>\n",
       "      <td>NaN</td>\n",
       "      <td>S</td>\n",
       "    </tr>\n",
       "    <tr>\n",
       "      <th>3</th>\n",
       "      <td>4</td>\n",
       "      <td>1</td>\n",
       "      <td>1</td>\n",
       "      <td>Futrelle, Mrs. Jacques Heath (Lily May Peel)</td>\n",
       "      <td>female</td>\n",
       "      <td>35.0</td>\n",
       "      <td>1</td>\n",
       "      <td>0</td>\n",
       "      <td>113803</td>\n",
       "      <td>53.1000</td>\n",
       "      <td>C123</td>\n",
       "      <td>S</td>\n",
       "    </tr>\n",
       "    <tr>\n",
       "      <th>4</th>\n",
       "      <td>5</td>\n",
       "      <td>0</td>\n",
       "      <td>3</td>\n",
       "      <td>Allen, Mr. William Henry</td>\n",
       "      <td>male</td>\n",
       "      <td>35.0</td>\n",
       "      <td>0</td>\n",
       "      <td>0</td>\n",
       "      <td>373450</td>\n",
       "      <td>8.0500</td>\n",
       "      <td>NaN</td>\n",
       "      <td>S</td>\n",
       "    </tr>\n",
       "  </tbody>\n",
       "</table>\n",
       "</div>"
      ],
      "text/plain": [
       "   PassengerId  Survived  Pclass  \\\n",
       "0            1         0       3   \n",
       "1            2         1       1   \n",
       "2            3         1       3   \n",
       "3            4         1       1   \n",
       "4            5         0       3   \n",
       "\n",
       "                                                Name     Sex   Age  SibSp  \\\n",
       "0                            Braund, Mr. Owen Harris    male  22.0      1   \n",
       "1  Cumings, Mrs. John Bradley (Florence Briggs Th...  female  38.0      1   \n",
       "2                             Heikkinen, Miss. Laina  female  26.0      0   \n",
       "3       Futrelle, Mrs. Jacques Heath (Lily May Peel)  female  35.0      1   \n",
       "4                           Allen, Mr. William Henry    male  35.0      0   \n",
       "\n",
       "   Parch            Ticket     Fare Cabin Embarked  \n",
       "0      0         A/5 21171   7.2500   NaN        S  \n",
       "1      0          PC 17599  71.2833   C85        C  \n",
       "2      0  STON/O2. 3101282   7.9250   NaN        S  \n",
       "3      0            113803  53.1000  C123        S  \n",
       "4      0            373450   8.0500   NaN        S  "
      ]
     },
     "execution_count": 142,
     "metadata": {},
     "output_type": "execute_result"
    }
   ],
   "source": [
    "csv = pd.read_csv(\"train.csv\")\n",
    "test = pd.read_csv(\"test.csv\")\n",
    "\n",
    "csv.head()"
   ]
  },
  {
   "cell_type": "code",
   "execution_count": 3,
   "metadata": {
    "collapsed": false
   },
   "outputs": [
    {
     "data": {
      "image/png": "[encoded data removed]",
      "text/plain": [
       "<matplotlib.figure.Figure at 0x7f3f0a5b4e10>"
      ]
     },
     "metadata": {},
     "output_type": "display_data"
    }
   ],
   "source": [
    "# Lets start with processing gender.\n",
    "# Woman and kids should have higher chance to survive\n",
    "# Is there really such correlation?\n",
    "\n",
    "gender = csv[[\"Sex\",\"Survived\"]]\n",
    "\n",
    "total = len(gender)\n",
    "male = gender.query(\"Sex == 'male'\")\n",
    "female = gender.query(\"Sex == 'female'\")\n",
    "\n",
    "totalMale = len(male)\n",
    "totalFemale = len(female)\n",
    "maleAlive = len( male.query(\"Survived == 1\") )\n",
    "femaleAlive = len ( female.query(\"Survived == 1\") )\n",
    "maleDead = totalMale - maleAlive\n",
    "femaleDead = totalFemale - femaleAlive\n",
    "\n",
    "fig, ax = plt.subplots(nrows=2,ncols=2,figsize=(18,18))\n",
    "\n",
    "# Total Population\n",
    "labels = [\"Male Alive\", \"Male Dead\", \"Female Alive\", \"Female Dead\"]\n",
    "fracs = [maleAlive,maleDead,femaleAlive,femaleDead]\n",
    "ax[0,0].pie(fracs,labels=labels,autopct='%.2f%%')\n",
    "ax[0,0].set_title(\"Fraction of gender survival of whole popultation\")\n",
    "\n",
    "# Male population Ratio\n",
    "ax[0,1].set_title(\"Percentage of Male Survived\")\n",
    "labels = [\"Alive\", \"Dead\"]\n",
    "fracs = [maleAlive,maleDead]\n",
    "ax[0,1].pie(fracs,labels=labels,autopct='%.2f%%')\n",
    "\n",
    "# Female population Ratio\n",
    "ax[1,0].set_title(\"Percentage of Female Survived\")\n",
    "labels = [\"Alive\", \"Dead\"]\n",
    "fracs = [femaleAlive,femaleDead]\n",
    "ax[1,0].pie(fracs,labels=labels,autopct='%.2f%%')\n",
    "\n",
    "ax[1,1].set_title(\"Frequency of Survival\")\n",
    "labels = [\"Male\", \"Female\"]\n",
    "ind = np.arange(2)\n",
    "aliveBar = ax[1,1].bar(ind, [maleAlive, femaleAlive], 0.35, color='b')\n",
    "deadBar = ax[1,1].bar(ind+0.35, [femaleAlive,femaleDead], 0.35, color='r')\n",
    "\n",
    "ax[1,1].set_xticks(ind + 0.35 / 2)\n",
    "ax[1,1].set_xticklabels(labels)\n",
    "ax[1,1].legend((aliveBar[0], deadBar[0]), [\"Alive\", \"Dead\"])\n",
    "\n",
    "temp = plt.plot()"
   ]
  },
  {
   "cell_type": "markdown",
   "metadata": {},
   "source": [
    "# Correlation with Gender\n",
    "\n",
    "Seems like, more females than males have survived the incident. Gender seems to be a special feature. I wonder what will happen if I make my predictions based on gender only?\n",
    "\n",
    "# Prediction #001 - Based on Gender Only"
   ]
  },
  {
   "cell_type": "code",
   "execution_count": 27,
   "metadata": {
    "collapsed": false
   },
   "outputs": [
    {
     "name": "stdout",
     "output_type": "stream",
     "text": [
      "Male Survival Prob: 0.18890814558058924 and Female Survival Prob: 0.7420382165605095\n"
     ]
    }
   ],
   "source": [
    "# Probablity of men surviving?\n",
    "\n",
    "pMale = maleAlive / totalMale\n",
    "pFemale = femaleAlive / totalFemale\n",
    "\n",
    "def surviveOrNot (gender):\n",
    "    \"\"\"Returns whether 'gender' will survive or not, based on random probability\"\"\"\n",
    "    prob = pMale if gender == 'male' else pFemale\n",
    "    x = np.random.rand()\n",
    "    return 1 if x <= prob else 0\n",
    "\n",
    "print ( \"Male Survival Prob: {} and Female Survival Prob: {}\".format(pMale,pFemale))\n",
    "\n",
    "# So for each male/female in test file, we simply generate random number and decide if she survives or not\n",
    "\n",
    "testGender = test.loc[:,('Sex','PassengerId')]\n",
    "testGender.loc[:,'Survived'] = [ surviveOrNot(x) for x in testGender['Sex'] ]\n",
    "del testGender['Sex']\n",
    "testGender.to_csv('001_gender_only.csv', index=False)"
   ]
  },
  {
   "cell_type": "markdown",
   "metadata": {},
   "source": [
    "## Result - 0.59809\n",
    "\n",
    "So I got more than half correct. Not bad, considering this was very naive approach. Oh well, at least I drew some nice graphs :D\n",
    "\n",
    "# What's next?\n",
    "\n",
    "Next, I will try using linear regression. I will probably need to clean up my data and convert them to numeric values. Before cleaning, I will probably need to convert string values to numeric where possible.\n",
    "\n",
    "# Cleaning Data"
   ]
  },
  {
   "cell_type": "code",
   "execution_count": 69,
   "metadata": {
    "collapsed": false
   },
   "outputs": [
    {
     "name": "stdout",
     "output_type": "stream",
     "text": [
      "Let's see if we have any missing values\n"
     ]
    },
    {
     "data": {
      "text/html": [
       "<div>\n",
       "<table border=\"1\" class=\"dataframe\">\n",
       "  <thead>\n",
       "    <tr style=\"text-align: right;\">\n",
       "      <th></th>\n",
       "      <th>PassengerId</th>\n",
       "      <th>Survived</th>\n",
       "      <th>Pclass</th>\n",
       "      <th>Name</th>\n",
       "      <th>Sex</th>\n",
       "      <th>Age</th>\n",
       "      <th>SibSp</th>\n",
       "      <th>Parch</th>\n",
       "      <th>Ticket</th>\n",
       "      <th>Fare</th>\n",
       "      <th>Cabin</th>\n",
       "      <th>Embarked</th>\n",
       "    </tr>\n",
       "  </thead>\n",
       "  <tbody>\n",
       "    <tr>\n",
       "      <th>0</th>\n",
       "      <td>1</td>\n",
       "      <td>0</td>\n",
       "      <td>3</td>\n",
       "      <td>Braund, Mr. Owen Harris</td>\n",
       "      <td>male</td>\n",
       "      <td>22.0</td>\n",
       "      <td>1</td>\n",
       "      <td>0</td>\n",
       "      <td>A/5 21171</td>\n",
       "      <td>7.2500</td>\n",
       "      <td>NaN</td>\n",
       "      <td>S</td>\n",
       "    </tr>\n",
       "    <tr>\n",
       "      <th>1</th>\n",
       "      <td>2</td>\n",
       "      <td>1</td>\n",
       "      <td>1</td>\n",
       "      <td>Cumings, Mrs. John Bradley (Florence Briggs Th...</td>\n",
       "      <td>female</td>\n",
       "      <td>38.0</td>\n",
       "      <td>1</td>\n",
       "      <td>0</td>\n",
       "      <td>PC 17599</td>\n",
       "      <td>71.2833</td>\n",
       "      <td>C85</td>\n",
       "      <td>C</td>\n",
       "    </tr>\n",
       "    <tr>\n",
       "      <th>2</th>\n",
       "      <td>3</td>\n",
       "      <td>1</td>\n",
       "      <td>3</td>\n",
       "      <td>Heikkinen, Miss. Laina</td>\n",
       "      <td>female</td>\n",
       "      <td>26.0</td>\n",
       "      <td>0</td>\n",
       "      <td>0</td>\n",
       "      <td>STON/O2. 3101282</td>\n",
       "      <td>7.9250</td>\n",
       "      <td>NaN</td>\n",
       "      <td>S</td>\n",
       "    </tr>\n",
       "    <tr>\n",
       "      <th>3</th>\n",
       "      <td>4</td>\n",
       "      <td>1</td>\n",
       "      <td>1</td>\n",
       "      <td>Futrelle, Mrs. Jacques Heath (Lily May Peel)</td>\n",
       "      <td>female</td>\n",
       "      <td>35.0</td>\n",
       "      <td>1</td>\n",
       "      <td>0</td>\n",
       "      <td>113803</td>\n",
       "      <td>53.1000</td>\n",
       "      <td>C123</td>\n",
       "      <td>S</td>\n",
       "    </tr>\n",
       "    <tr>\n",
       "      <th>4</th>\n",
       "      <td>5</td>\n",
       "      <td>0</td>\n",
       "      <td>3</td>\n",
       "      <td>Allen, Mr. William Henry</td>\n",
       "      <td>male</td>\n",
       "      <td>35.0</td>\n",
       "      <td>0</td>\n",
       "      <td>0</td>\n",
       "      <td>373450</td>\n",
       "      <td>8.0500</td>\n",
       "      <td>NaN</td>\n",
       "      <td>S</td>\n",
       "    </tr>\n",
       "  </tbody>\n",
       "</table>\n",
       "</div>"
      ],
      "text/plain": [
       "   PassengerId  Survived  Pclass  \\\n",
       "0            1         0       3   \n",
       "1            2         1       1   \n",
       "2            3         1       3   \n",
       "3            4         1       1   \n",
       "4            5         0       3   \n",
       "\n",
       "                                                Name     Sex   Age  SibSp  \\\n",
       "0                            Braund, Mr. Owen Harris    male  22.0      1   \n",
       "1  Cumings, Mrs. John Bradley (Florence Briggs Th...  female  38.0      1   \n",
       "2                             Heikkinen, Miss. Laina  female  26.0      0   \n",
       "3       Futrelle, Mrs. Jacques Heath (Lily May Peel)  female  35.0      1   \n",
       "4                           Allen, Mr. William Henry    male  35.0      0   \n",
       "\n",
       "   Parch            Ticket     Fare Cabin Embarked  \n",
       "0      0         A/5 21171   7.2500   NaN        S  \n",
       "1      0          PC 17599  71.2833   C85        C  \n",
       "2      0  STON/O2. 3101282   7.9250   NaN        S  \n",
       "3      0            113803  53.1000  C123        S  \n",
       "4      0            373450   8.0500   NaN        S  "
      ]
     },
     "metadata": {},
     "output_type": "display_data"
    },
    {
     "name": "stdout",
     "output_type": "stream",
     "text": [
      "Some missing values in Age\n",
      "Some missing values in Fare\n",
      "Some missing values in Cabin\n",
      "Some missing values in Embarked\n"
     ]
    }
   ],
   "source": [
    "def checkMissingValues(column):\n",
    "    return csv[column].isnull().values.any() or test[column].isnull().values.any()\n",
    "\n",
    "print ( \"Let's see if we have any missing values\" )\n",
    "display(csv.head())\n",
    "\n",
    "for x in csv.columns:\n",
    "    if ( x == 'Survived' ):\n",
    "        continue\n",
    "    if ( checkMissingValues(x) ):\n",
    "        print ( \"Some missing values in\", x )"
   ]
  },
  {
   "cell_type": "markdown",
   "metadata": {},
   "source": [
    "Lets ignore Cabin for now.\n",
    "\n",
    "## Cleaning Policy\n",
    "\n",
    "I think I am going to replace all missing values with median of that column. \n",
    "\n",
    "First lets, convert Embarked to numeric value"
   ]
  },
  {
   "cell_type": "code",
   "execution_count": 155,
   "metadata": {
    "collapsed": false
   },
   "outputs": [
    {
     "data": {
      "text/plain": [
       "array([ 0.,  1.,  2.])"
      ]
     },
     "metadata": {},
     "output_type": "display_data"
    }
   ],
   "source": [
    "cleanColumn = 'Embarked'\n",
    "display ( csv['Embarked'].unique() )\n",
    "\n",
    "embarkMap = { 'S': 0, 'C' : 1, 'Q' : 2 }\n",
    "def convertEmbark(x):\n",
    "    if pd.isnull(x):\n",
    "        return np.nan\n",
    "    if type(x) is str:\n",
    "        return embarkMap[x]\n",
    "    return x\n",
    "\n",
    "csv[cleanColumn] = csv[cleanColumn].map( convertEmbark )\n",
    "test[cleanColumn] = test[cleanColumn].map( convertEmbark )\n",
    "\n",
    "csv[cleanColumn] = csv[cleanColumn].fillna( csv[cleanColumn].median() )\n",
    "test[cleanColumn] = test[cleanColumn].fillna( test[cleanColumn].median() )\n"
   ]
  },
  {
   "cell_type": "code",
   "execution_count": null,
   "metadata": {
    "collapsed": true
   },
   "outputs": [],
   "source": []
  }
 ],
 "metadata": {
  "kernelspec": {
   "display_name": "Python 3",
   "language": "python",
   "name": "python3"
  },
  "language_info": {
   "codemirror_mode": {
    "name": "ipython",
    "version": 3
   },
   "file_extension": ".py",
   "mimetype": "text/x-python",
   "name": "python",
   "nbconvert_exporter": "python",
   "pygments_lexer": "ipython3",
   "version": "3.5.2"
  }
 },
 "nbformat": 4,
 "nbformat_minor": 0
}
